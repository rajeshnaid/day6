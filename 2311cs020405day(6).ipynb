{
 "cells": [
  {
   "cell_type": "code",
   "execution_count": 1,
   "id": "1c8945af-1015-4a8c-958e-bfb4d8d497f9",
   "metadata": {},
   "outputs": [
    {
     "name": "stdout",
     "output_type": "stream",
     "text": [
      "First 2 rows of the DataFrame:\n",
      "    Name  Age  Salary\n",
      "0  Alice   24   50000\n",
      "1    Bob   30   60000\n",
      "\n",
      "DataFrame after adding Bonus column:\n",
      "      Name  Age  Salary   Bonus\n",
      "0    Alice   24   50000  5000.0\n",
      "1      Bob   30   60000  6000.0\n",
      "2  Charlie   22   55000  5500.0\n",
      "3    David   35   70000  7000.0\n",
      "4      Eva   28   65000  6500.0\n",
      "\n",
      "Average Salary of employees: 60000.0\n",
      "\n",
      "Employees older than 25:\n",
      "    Name  Age  Salary   Bonus\n",
      "1    Bob   30   60000  6000.0\n",
      "3  David   35   70000  7000.0\n",
      "4    Eva   28   65000  6500.0\n"
     ]
    }
   ],
   "source": [
    "import pandas as pd\n",
    "data = {\n",
    "    'Name': ['Alice', 'Bob', 'Charlie', 'David', 'Eva'],\n",
    "    'Age': [24, 30, 22, 35, 28],\n",
    "    'Salary': [50000, 60000, 55000, 70000, 65000]\n",
    "}\n",
    "\n",
    "df = pd.DataFrame(data)\n",
    "print(\"First 2 rows of the DataFrame:\")\n",
    "print(df.head(2))\n",
    "df['Bonus'] = df['Salary'] * 0.10\n",
    "print(\"\\nDataFrame after adding Bonus column:\")\n",
    "print(df)\n",
    "average_salary = df['Salary'].mean()\n",
    "print(\"\\nAverage Salary of employees:\", average_salary)\n",
    "older_employees = df[df['Age'] > 25]\n",
    "print(\"\\nEmployees older than 25:\")\n",
    "print(older_employees)"
   ]
  },
  {
   "cell_type": "code",
   "execution_count": null,
   "id": "315b842e-8107-4a96-8dce-12c5e95ed4d5",
   "metadata": {},
   "outputs": [],
   "source": []
  }
 ],
 "metadata": {
  "kernelspec": {
   "display_name": "Python [conda env:base] *",
   "language": "python",
   "name": "conda-base-py"
  },
  "language_info": {
   "codemirror_mode": {
    "name": "ipython",
    "version": 3
   },
   "file_extension": ".py",
   "mimetype": "text/x-python",
   "name": "python",
   "nbconvert_exporter": "python",
   "pygments_lexer": "ipython3",
   "version": "3.12.7"
  }
 },
 "nbformat": 4,
 "nbformat_minor": 5
}
